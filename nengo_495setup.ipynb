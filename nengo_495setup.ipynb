{
 "cells": [
  {
   "cell_type": "markdown",
   "metadata": {},
   "source": [
    "## ECE495 Setup Lab: Virtual Environment Test\n",
    "\n",
    "[Code cred](https://www.nengo.ai/nengo/examples/basic/single-neuron.html)\n"
   ]
  },
  {
   "cell_type": "markdown",
   "metadata": {},
   "source": [
    "#### Set up\n",
    "\n",
    "**Ensure you are using your [495 Virtual Environment](https://github.com/kaitlin-fair/495_setup/) before you begin!**  \n",
    "    \n",
    "Import Nengo and other supporting libraries into your program to get started:"
   ]
  },
  {
   "cell_type": "code",
   "execution_count": null,
   "metadata": {},
   "outputs": [],
   "source": [
    "import matplotlib.pyplot as plt\n",
    "import numpy as np\n",
    "import nengo\n",
    "from nengo.dists import Uniform\n",
    "\n",
    "from urllib.request import urlretrieve\n",
    "import tensorflow as tf\n",
    "import nengo_dl"
   ]
  },
  {
   "cell_type": "markdown",
   "metadata": {},
   "source": [
    "### This is code that you will understand in due time, get excited.\n",
    "\n",
    "This code is testing that we are set up to program Nengo neurons to represent values over time."
   ]
  },
  {
   "cell_type": "code",
   "execution_count": null,
   "metadata": {},
   "outputs": [],
   "source": [
    "## Create Neuron\n",
    "model = nengo.Network(label=\"A Single Neuron\")\n",
    "with model:\n",
    "    neuron = nengo.Ensemble(\n",
    "        1,\n",
    "        dimensions=1,  # Represent a scalar\n",
    "        # Set intercept to 0.5\n",
    "        intercepts=Uniform(-0.5, -0.5),\n",
    "        # Set the maximum firing rate of the neuron to 100hz\n",
    "        max_rates=Uniform(100, 100),\n",
    "        # Set the neuron's firing rate to increase for positive input\n",
    "        encoders=[[1]],\n",
    "    )\n",
    "\n",
    "## Create Input\n",
    "with model:\n",
    "    cos = nengo.Node(lambda t: np.cos(8 * t))\n",
    "\n",
    "## Connect Input to Neuron\n",
    "with model:\n",
    "    # Connect the input signal to the neuron\n",
    "    nengo.Connection(cos, neuron)\n",
    "\n",
    "## Add probes to view neuron response\n",
    "with model:\n",
    "    # The original input\n",
    "    cos_probe = nengo.Probe(cos)\n",
    "    # The raw spikes from the neuron\n",
    "    spikes = nengo.Probe(neuron.neurons)\n",
    "    # Subthreshold soma voltage of the neuron\n",
    "    voltage = nengo.Probe(neuron.neurons, \"voltage\")\n",
    "    # Spikes filtered by a 10ms post-synaptic filter\n",
    "    filtered = nengo.Probe(neuron, synapse=0.01)\n",
    "\n",
    "## Run model\n",
    "with nengo.Simulator(model) as sim:  # Create the simulator\n",
    "    sim.run(1)  # Run it for 1 second\n"
   ]
  },
  {
   "cell_type": "markdown",
   "metadata": {},
   "source": [
    "### This is where you should edit your code and print your results!"
   ]
  },
  {
   "cell_type": "code",
   "execution_count": null,
   "metadata": {},
   "outputs": [],
   "source": [
    "\n",
    "## Plot the results!\n",
    "# Plot the decoded output of the ensemble\n",
    "plt.figure()\n",
    "plt.plot(sim.trange(), sim.data[filtered])\n",
    "plt.plot(sim.trange(), sim.data[cos_probe])\n",
    "plt.xlim(0, 1)\n",
    "plt.title( \"Decoded Neuron Output - LastName\" )\n",
    "plt.show()\n"
   ]
  },
  {
   "cell_type": "markdown",
   "metadata": {},
   "source": [
    "### More code that you will understand in due time!\n",
    "\n",
    "This code is testing that we are set up to perform deep learning with Nengo neurons."
   ]
  },
  {
   "cell_type": "code",
   "execution_count": null,
   "metadata": {},
   "outputs": [],
   "source": [
    "mnist = tf.keras.datasets.mnist\n",
    "\n",
    "(train_images, train_labels), (test_images, test_labels) = mnist.load_data()\n",
    "\n",
    "with nengo.Network(seed=0) as net:\n",
    "\n",
    "    # NengoDL default parameters for the neurons that will make\n",
    "    # the training progress more smoothly\n",
    "    net.config[nengo.Ensemble].max_rates = nengo.dists.Choice([100])\n",
    "    net.config[nengo.Ensemble].intercepts = nengo.dists.Choice([0])\n",
    "    net.config[nengo.Connection].synapse = None\n",
    "    neuron_type = nengo.LIF(amplitude=0.01)\n",
    "    nengo_dl.configure_settings(stateful=False)\n",
    "\n",
    "minibatch_size = 256\n",
    "sim = nengo_dl.Simulator(net, minibatch_size=minibatch_size)"
   ]
  }
 ],
 "metadata": {
  "kernelspec": {
   "display_name": "495venv",
   "language": "python",
   "name": "python3"
  },
  "language_info": {
   "name": "python",
   "version": "3.10.14"
  }
 },
 "nbformat": 4,
 "nbformat_minor": 2
}
